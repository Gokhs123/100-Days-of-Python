{
  "nbformat": 4,
  "nbformat_minor": 0,
  "metadata": {
    "colab": {
      "name": "Day 3.ipynb",
      "provenance": [],
      "authorship_tag": "ABX9TyMTHfAqhxeLyGsPJG6/yeRk",
      "include_colab_link": true
    },
    "kernelspec": {
      "name": "python3",
      "display_name": "Python 3"
    },
    "language_info": {
      "name": "python"
    }
  },
  "cells": [
    {
      "cell_type": "markdown",
      "metadata": {
        "id": "view-in-github",
        "colab_type": "text"
      },
      "source": [
        "<a href=\"https://colab.research.google.com/github/Gokhs123/100-Days-of-Python/blob/main/Day_3.ipynb\" target=\"_parent\"><img src=\"https://colab.research.google.com/assets/colab-badge.svg\" alt=\"Open In Colab\"/></a>"
      ]
    },
    {
      "cell_type": "markdown",
      "source": [
        "ControlFlow --Day 3"
      ],
      "metadata": {
        "id": "ctmXUsUYcqmK"
      }
    },
    {
      "cell_type": "code",
      "execution_count": 1,
      "metadata": {
        "colab": {
          "base_uri": "https://localhost:8080/"
        },
        "id": "c1c_kVTnbrNa",
        "outputId": "7a95685f-e301-4c83-c7fe-7a3483f40902"
      },
      "outputs": [
        {
          "output_type": "stream",
          "name": "stdout",
          "text": [
            "Welcome to the rollercoaster!\n",
            "What is your height in cm? 126\n",
            "You can ride the rollercoaster !! \n",
            "What is you age? 16\n",
            "Please pay $7\n"
          ]
        }
      ],
      "source": [
        "print(\"Welcome to the rollercoaster!\")\n",
        "height = int(input(\"What is your height in cm? \"))\n",
        "if height >= 120:\n",
        "  print (\"You can ride the rollercoaster !! \")\n",
        "  age = int(input(\"What is you age? \"))\n",
        "  if age < 12:\n",
        "    print(\"Please pay $5\")\n",
        "  elif age <= 18 :\n",
        "    print(\"Please pay $7\")\n",
        "  else:\n",
        "    print (\"The ticket price would be 12$\")\n",
        "else :\n",
        "  print (\"Sorry, you have to grow taller befoer you ride \")"
      ]
    },
    {
      "cell_type": "code",
      "source": [
        "number = int(input(\"Which number do you want to check ?\"))\n",
        "\n",
        "remainder = number%2  # Modulo Operator  -- Gives remainders\n",
        "\n",
        "if remainder == 0:\n",
        "  print(\"The given number is an Even Number\")\n",
        "else:\n",
        "  print(\"The given number is an Odd number\")"
      ],
      "metadata": {
        "colab": {
          "base_uri": "https://localhost:8080/"
        },
        "id": "SLKeQjSec4pW",
        "outputId": "7cee595e-3692-4313-be6b-0d91962df271"
      },
      "execution_count": 2,
      "outputs": [
        {
          "output_type": "stream",
          "name": "stdout",
          "text": [
            "Which number do you want to check ?25\n",
            "The given number is an Odd number\n"
          ]
        }
      ]
    },
    {
      "cell_type": "code",
      "source": [
        "height = float(input(\"Enter your height in m: \"))\n",
        "weight = float(input(\"Enter your weight in kgs: \"))\n",
        "\n",
        "BMI = round(weight/ (height*height))\n",
        "print (BMI)\n",
        "\n",
        "if BMI < 18.5 :\n",
        "  print(f\"Your bmi is {BMI}, You are underweight\")\n",
        "elif BMI < 25 :\n",
        "  print(f\"Your bmi is {BMI}, You have a normal weight\")\n",
        "elif BMI < 30 :\n",
        "  print(f\"Your bmi is {BMI}, You are overweight\")\n",
        "elif BMI < 35 :\n",
        "  print (f\"Your bmi is {BMI}, You are obese\")\n",
        "else :\n",
        "  print (f\"Your bmi is {BMI}, you are clinically obese\")"
      ],
      "metadata": {
        "colab": {
          "base_uri": "https://localhost:8080/"
        },
        "id": "dv3oDKiOd_be",
        "outputId": "1460e93a-2b88-4190-98fc-baa2ca09d12b"
      },
      "execution_count": 10,
      "outputs": [
        {
          "output_type": "stream",
          "name": "stdout",
          "text": [
            "Enter your height in m: 1.57\n",
            "Enter your weight in kgs: 65\n",
            "26\n",
            "Your bmi is 26, You are overweight\n"
          ]
        }
      ]
    }
  ]
}